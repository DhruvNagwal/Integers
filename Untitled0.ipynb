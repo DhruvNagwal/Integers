{
  "nbformat": 4,
  "nbformat_minor": 0,
  "metadata": {
    "colab": {
      "provenance": [],
      "authorship_tag": "ABX9TyMsLIZMUzV3WWl4mpDopUZM",
      "include_colab_link": true
    },
    "kernelspec": {
      "name": "python3",
      "display_name": "Python 3"
    },
    "language_info": {
      "name": "python"
    }
  },
  "cells": [
    {
      "cell_type": "markdown",
      "metadata": {
        "id": "view-in-github",
        "colab_type": "text"
      },
      "source": [
        "<a href=\"https://colab.research.google.com/github/DhruvNagwal/Integers/blob/main/Untitled0.ipynb\" target=\"_parent\"><img src=\"https://colab.research.google.com/assets/colab-badge.svg\" alt=\"Open In Colab\"/></a>"
      ]
    },
    {
      "cell_type": "code",
      "execution_count": null,
      "metadata": {
        "id": "ToUbXOj65xf3"
      },
      "outputs": [],
      "source": [
        "\n",
        "\n",
        "Open In Colab\n",
        "\n",
        "\n",
        "\n",
        "Open In Colab\n",
        "\n",
        "#assign statement\n",
        "x=3\n",
        "print(1+1)\n",
        "print(len(\"hello team\"))\n",
        "a='mighgty'\n",
        "#import statement\n",
        "import pandas as pd\n",
        "print(y)\n",
        "my_list=[1]\n",
        "my_tuple=(1,)\n",
        "my_list,my_tuple\n",
        "a=(1+2+3+4+5+6)\n",
        "atype(a)\n",
        "a=1\n",
        "b=2\n",
        "completions_sorting_key\n",
        "c=3\n",
        "a=1;b=2;c=3\n",
        "a=1\n",
        "b=2\n",
        "c=3\n",
        "a,b,c=[1,'a', true](45,67), {'name':'vikash','Age':27 }\n",
        "#this is a comment\n",
        "#print('hello')\n",
        "print('hello')\n",
        "a=2\n",
        "b=1\n",
        "                           #if (b>a):\n",
        "                           #a=5\n",
        "                           #b=5 a,b=1,2\n",
        "if a\n",
        "\n",
        "  File \"\", line 33\n",
        "    perform action1\n",
        "            ^\n",
        "SyntaxError: invalid syntax\n",
        "\n",
        "\n",
        "\n",
        "\n",
        "\n",
        "\n",
        "\n",
        "\n",
        "\n"
      ]
    }
  ]
}